{
 "cells": [
  {
   "cell_type": "code",
   "execution_count": 1,
   "metadata": {
    "scrolled": true
   },
   "outputs": [
    {
     "name": "stdout",
     "output_type": "stream",
     "text": [
      "[2, 3, 4]\n"
     ]
    }
   ],
   "source": [
    "#problem statement 1\n",
    "\n",
    "list=[\"ab\",\"cde\",\"erty\"]\n",
    "result_set=[]\n",
    "def lenght_of_word(list):\n",
    "    for x in list:\n",
    "        result_set.append(len(x))\n",
    "    print(result_set)\n",
    "        \n",
    "lenght_of_word(list)"
   ]
  },
  {
   "cell_type": "code",
   "execution_count": 2,
   "metadata": {},
   "outputs": [
    {
     "name": "stdout",
     "output_type": "stream",
     "text": [
      "Enter your character: a\n",
      "Your character a is a vowel\n"
     ]
    }
   ],
   "source": [
    "#problem statement 2- output when entered character is Vowel\n",
    "\n",
    "your_char=input(\"Enter your character: \")\n",
    "vowel_list=[\"a\",\"e\",\"i\",\"o\",\"u\"]\n",
    "def is_it_a_vowel(your_char):\n",
    "    if your_char in vowel_list:\n",
    "        print(\"Your character \" +your_char+ \" is a vowel\")\n",
    "    else:\n",
    "        print(\"Your character \" +your_char+ \" is not a vowel\")    \n",
    "        \n",
    "is_it_a_vowel(your_char)\n"
   ]
  },
  {
   "cell_type": "code",
   "execution_count": 3,
   "metadata": {},
   "outputs": [
    {
     "name": "stdout",
     "output_type": "stream",
     "text": [
      "Enter your character: b\n",
      "Your character b is not a vowel\n"
     ]
    }
   ],
   "source": [
    "#problem statement 2- output when entered character is NOT a vowel\n",
    "\n",
    "your_char=input(\"Enter your character: \")\n",
    "vowel_list=[\"a\",\"e\",\"i\",\"o\",\"u\"]\n",
    "def is_it_a_vowel(your_char):\n",
    "    if your_char in vowel_list:\n",
    "        print(\"Your character \" +your_char+ \" is a vowel\")\n",
    "    else:\n",
    "        print(\"Your character \" +your_char+ \" is not a vowel\")    \n",
    "        \n",
    "is_it_a_vowel(your_char)"
   ]
  },
  {
   "cell_type": "code",
   "execution_count": null,
   "metadata": {},
   "outputs": [],
   "source": []
  }
 ],
 "metadata": {
  "kernelspec": {
   "display_name": "Python 3",
   "language": "python",
   "name": "python3"
  },
  "language_info": {
   "codemirror_mode": {
    "name": "ipython",
    "version": 3
   },
   "file_extension": ".py",
   "mimetype": "text/x-python",
   "name": "python",
   "nbconvert_exporter": "python",
   "pygments_lexer": "ipython3",
   "version": "3.6.4"
  }
 },
 "nbformat": 4,
 "nbformat_minor": 2
}
